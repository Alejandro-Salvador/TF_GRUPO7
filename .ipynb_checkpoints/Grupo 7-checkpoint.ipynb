{
 "cells": [
  {
   "cell_type": "markdown",
   "metadata": {},
   "source": [
    "# TRABAJO FINAL\n",
    "Lectura de genes de la pagina **UNIPROT**\n",
    "\n",
    "https://www.uniprot.org/"
   ]
  },
  {
   "cell_type": "markdown",
   "metadata": {},
   "source": [
    "GRUPO 7:\n",
    " - Salvador Cama, Alejandro 20190310\n",
    " - Velasquez Gonzales, Pedro Daniel 20170382\n",
    " - Farfán Florián Erik David 20160229\n",
    " - Inoñan Sandoval, José Agustín  20190299"
   ]
  },
  {
   "cell_type": "code",
   "execution_count": null,
   "metadata": {},
   "outputs": [],
   "source": [
    "# Importamos las librerias\n",
    "import pandas as pd\n",
    "from bs4 import BeautifulSoup \n",
    "import requests\n",
    "import re"
   ]
  },
  {
   "cell_type": "code",
   "execution_count": null,
   "metadata": {},
   "outputs": [],
   "source": [
    "genename = []                                                                # Creamos una lista vacia llamada genename\n",
    "for i in range(18):                                                          # Para i en una rango de (0 a 17)\n",
    "    if i == 0:                                                               # Si i es igual a 0   \n",
    "        data = pd.read_excel(\"02 Ch Genes ordenados con vecinos.xlsx\",       # Nombre de la data\n",
    "                    sheet_name=i,                                            # Numero de hoja, en este caso sera 0\n",
    "                     index_col=\"Gen Abrev\",                                  # La columna que sera el index\n",
    "                    skiprows=0)                                     \n",
    "    else:\n",
    "        data = pd.read_excel(\"02 Ch Genes ordenados con vecinos.xlsx\",      # Nombre de la data\n",
    "                        sheet_name=i,                                       # Numero de la hoja\n",
    "                         index_col=\"Gen Abrev\",                             # La columna que sera el index\n",
    "                        skiprows=0)                                         # saltar la primera fila\n",
    "    data.to_csv(\"genes.csv\")                                                # Convertimos la data en un csv\n",
    "    \n",
    "    ef = pd.read_csv('genes.csv')              # leemos la data y lo asignamos a la variable ef\n",
    "    genename.extend(list(ef[\"Gen Abrev\"]))     # Agregamos la columna Gen Abrev a la lista genename\n",
    "    \n",
    "pagina=[]                                                                           # Creamos una lista vacia llamada pagina, para guadar todas las paginas\n",
    "for i in genename:                                                                  # i tomara cada elemento de genename\n",
    "    url = \"https://www.uniprot.org/uniprot/?query=\"+str(i)+\"+Capra+Hircus&sort=score\" # Concatenamos cadenas para las paginas\n",
    "    pagina.append(url)                                                              # cada pagina lo vamos a apendisar a la lista pagina\n",
    "print(genename[1:20])"
   ]
  }
 ],
 "metadata": {
  "kernelspec": {
   "display_name": "Python 3",
   "language": "python",
   "name": "python3"
  },
  "language_info": {
   "codemirror_mode": {
    "name": "ipython",
    "version": 3
   },
   "file_extension": ".py",
   "mimetype": "text/x-python",
   "name": "python",
   "nbconvert_exporter": "python",
   "pygments_lexer": "ipython3",
   "version": "3.8.5"
  }
 },
 "nbformat": 4,
 "nbformat_minor": 4
}
